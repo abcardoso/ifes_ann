{
  "nbformat": 4,
  "nbformat_minor": 0,
  "metadata": {
    "colab": {
      "provenance": [],
      "gpuType": "T4",
      "include_colab_link": true
    },
    "kernelspec": {
      "name": "python3",
      "display_name": "Python 3"
    },
    "language_info": {
      "name": "python"
    },
    "accelerator": "GPU"
  },
  "cells": [
    {
      "cell_type": "markdown",
      "metadata": {
        "id": "view-in-github",
        "colab_type": "text"
      },
      "source": [
        "<a href=\"https://colab.research.google.com/github/abcardoso/ifes_ann/blob/main/202401_ANN_Note03_forecasting_AnaB.ipynb\" target=\"_parent\"><img src=\"https://colab.research.google.com/assets/colab-badge.svg\" alt=\"Open In Colab\"/></a>"
      ]
    },
    {
      "cell_type": "code",
      "source": [
        "pip install requests\n"
      ],
      "metadata": {
        "colab": {
          "base_uri": "https://localhost:8080/"
        },
        "id": "HiiYfZcLcHSw",
        "outputId": "c20b0748-cfff-4baa-b177-77fd4aedf95a"
      },
      "execution_count": 19,
      "outputs": [
        {
          "output_type": "stream",
          "name": "stdout",
          "text": [
            "Requirement already satisfied: requests in /usr/local/lib/python3.10/dist-packages (2.31.0)\n",
            "Requirement already satisfied: charset-normalizer<4,>=2 in /usr/local/lib/python3.10/dist-packages (from requests) (3.3.2)\n",
            "Requirement already satisfied: idna<4,>=2.5 in /usr/local/lib/python3.10/dist-packages (from requests) (3.7)\n",
            "Requirement already satisfied: urllib3<3,>=1.21.1 in /usr/local/lib/python3.10/dist-packages (from requests) (2.0.7)\n",
            "Requirement already satisfied: certifi>=2017.4.17 in /usr/local/lib/python3.10/dist-packages (from requests) (2024.2.2)\n"
          ]
        }
      ]
    },
    {
      "cell_type": "markdown",
      "source": [
        "## Base de dados escolhida\n",
        "\n",
        "Os dados do IPCA  (Índice Nacional de Preços ao Consumidor Amplo) representam a inflação mensal acumulada no Brasil, coletados e disponibilizados pela API do Banco Central do Brasil. Esses dados foram escolhidos para forecasting devido à sua importância econômica e características intrínsecas de séries temporais, como tendências e sazonalidade."
      ],
      "metadata": {
        "id": "eCvCIDZkiFRB"
      }
    },
    {
      "cell_type": "code",
      "execution_count": 20,
      "metadata": {
        "colab": {
          "base_uri": "https://localhost:8080/"
        },
        "id": "KUxjHcpg3M8V",
        "outputId": "134bf59f-3a53-48fd-d3af-a20a27bd4f14"
      },
      "outputs": [
        {
          "output_type": "stream",
          "name": "stdout",
          "text": [
            "[{'data': '01/01/1992', 'valor': '28.12'}, {'data': '01/02/1992', 'valor': '25.28'}, {'data': '01/03/1992', 'valor': '22.16'}, {'data': '01/04/1992', 'valor': '20.43'}, {'data': '01/05/1992', 'valor': '26.10'}]\n"
          ]
        }
      ],
      "source": [
        "import requests\n",
        "import json\n",
        "\n",
        "# URL dos dados do IPCA em formato JSON\n",
        "url = 'https://api.bcb.gov.br/dados/serie/bcdata.sgs.10841/dados?formato=json'\n",
        "\n",
        "response = requests.get(url)\n",
        "\n",
        "# Verificar se a solicitação foi bem-sucedida\n",
        "if response.status_code == 200:\n",
        "    ipca_json_data = response.json()\n",
        "    # Imprimir os primeiros 5 elementos para teste\n",
        "    print(ipca_json_data[:5])\n",
        "else:\n",
        "    print(\"Falha na solicitação: Status\", response.status_code)\n",
        "\n"
      ]
    },
    {
      "cell_type": "markdown",
      "source": [
        "## Definições\n",
        "\n",
        "O window_size de 12 foi escolhido para a criação das sequências usadas no modelo Dense. Este tamanho de janela significa que estamos usando dados dos 12 meses anteriores para prever o valor do próximo mês. Este parâmetro foi escolhido considerando a sazonalidade anual típica em dados econômicos, permitindo que o modelo capture padrões anuais na inflação."
      ],
      "metadata": {
        "id": "j9N_BS53rs53"
      }
    },
    {
      "cell_type": "code",
      "source": [
        "import numpy as np\n",
        "from sklearn.metrics import mean_squared_error\n",
        "from sklearn.preprocessing import MinMaxScaler\n",
        "from keras.models import Sequential\n",
        "from keras.layers import LSTM, Dense\n",
        "\n",
        "# Converter JSON em lista de valores (float)\n",
        "data_values = [float(item['valor']) for item in ipca_json_data]\n",
        "\n",
        "# Normalização dos dados\n",
        "scaler = MinMaxScaler(feature_range=(0, 1))\n",
        "data_values_scaled = scaler.fit_transform(np.array(data_values).reshape(-1, 1))\n",
        "\n",
        "# Função para criar sequências de dados (X, y)\n",
        "def create_sequences(data, window_size):\n",
        "    X, y = [], []\n",
        "    for i in range(len(data) - window_size):\n",
        "        seq_x, seq_y = data[i:(i + window_size)], data[i + window_size]\n",
        "        X.append(seq_x)\n",
        "        y.append(seq_y)\n",
        "    return np.array(X), np.array(y)\n",
        "\n",
        "# Definir tamanho da janela\n",
        "window_size = 12\n",
        "\n",
        "# Criar sequências\n",
        "X, y = create_sequences(data_values_scaled, window_size)\n"
      ],
      "metadata": {
        "id": "2A8fZM1BhOo2"
      },
      "execution_count": 21,
      "outputs": []
    },
    {
      "cell_type": "markdown",
      "source": [
        "#Baseline"
      ],
      "metadata": {
        "id": "lfcYSNkCDtoH"
      }
    },
    {
      "cell_type": "code",
      "source": [
        "import numpy as np\n",
        "from sklearn.metrics import mean_absolute_error\n",
        "\n",
        "mean = np.mean(data_values_scaled)\n",
        "std = np.std(data_values_scaled)\n",
        "\n",
        "def evaluate_naive_method(X, y):\n",
        "    total_abs_err = 0.\n",
        "    samples_seen = 0\n",
        "    for i in range(len(X)):\n",
        "        # Usando o último valor da sequência como a previsão\n",
        "        preds = X[i, -1, 0] * std + mean  # Adapte o índice se necessário\n",
        "        actual = y[i] * std + mean\n",
        "        total_abs_err += np.abs(preds - actual)\n",
        "        samples_seen += 1\n",
        "    return total_abs_err / samples_seen\n",
        "\n",
        "# Calcular o erro absoluto médio para o modelo Naïve\n",
        "naive_error = evaluate_naive_method(X, y)\n",
        "print(f'Mean Absolute Error for Naive Forecast: {naive_error}')\n"
      ],
      "metadata": {
        "colab": {
          "base_uri": "https://localhost:8080/"
        },
        "id": "Se5vQL43DgDP",
        "outputId": "3d4fea11-fa76-4760-a989-15cb3dd9a5d4"
      },
      "execution_count": 22,
      "outputs": [
        {
          "output_type": "stream",
          "name": "stdout",
          "text": [
            "Mean Absolute Error for Naive Forecast: [0.00243555]\n"
          ]
        }
      ]
    },
    {
      "cell_type": "markdown",
      "source": [
        "#Densely Conected"
      ],
      "metadata": {
        "id": "TCiXemYCFavf"
      }
    },
    {
      "cell_type": "code",
      "source": [
        "from tensorflow import keras\n",
        "from tensorflow.keras import layers\n",
        "from sklearn.preprocessing import MinMaxScaler\n",
        "import numpy as np\n",
        "\n",
        "from sklearn.model_selection import train_test_split\n",
        "\n",
        "# Normalização dos dados\n",
        "scaler = MinMaxScaler()\n",
        "data_values_scaled = scaler.fit_transform(np.array(data_values).reshape(-1, 1))\n",
        "\n",
        "# Criar sequências como anteriormente\n",
        "X, y = create_sequences(data_values_scaled, window_size)\n",
        "\n",
        "# Dividir os dados em treinamento e teste\n",
        "X_train, X_temp, y_train, y_temp = train_test_split(X, y, test_size=0.2, random_state=42)\n",
        "\n",
        "# Dividir os dados temporários em validação e teste\n",
        "X_val, X_test, y_val, y_test = train_test_split(X_temp, y_temp, test_size=0.5, random_state=42)\n",
        "\n",
        "# Reformatar X para 2D para modelos densamente conectados\n",
        "X_train_flat = X_train.reshape((X_train.shape[0], -1))\n",
        "X_val_flat = X_val.reshape((X_val.shape[0], -1))\n",
        "X_test_flat = X_test.reshape((X_test.shape[0], -1))\n",
        "\n",
        "# Construir e treinar o modelo\n",
        "inputs = keras.Input(shape=(X_train_flat.shape[1],))\n",
        "x = layers.Dense(16, activation=\"relu\")(inputs)\n",
        "outputs = layers.Dense(1)(x)\n",
        "model = keras.Model(inputs, outputs)\n",
        "model.compile(optimizer=\"rmsprop\", loss=\"mse\", metrics=['mae'])\n",
        "\n",
        "# Configuração do checkpoint\n",
        "callbacks = [\n",
        "    keras.callbacks.ModelCheckpoint(\"model.keras\", save_best_only=True)\n",
        "]\n",
        "\n",
        "history = model.fit(X_train_flat, y_train, epochs=10, validation_data=(X_val_flat, y_val), callbacks=callbacks)\n",
        "\n",
        "# Carregar o melhor modelo salvo\n",
        "model = keras.models.load_model(\"model.keras\")\n",
        "\n",
        "# Avaliar o modelo no conjunto de teste\n",
        "test_mae = model.evaluate(X_test_flat, y_test)[1]\n",
        "print(f\"Test MAE: {test_mae:.2f}\")\n"
      ],
      "metadata": {
        "colab": {
          "base_uri": "https://localhost:8080/"
        },
        "id": "-11VBrC1FHNF",
        "outputId": "ba51a6a9-082d-4165-da68-bf1b4a54baca"
      },
      "execution_count": 25,
      "outputs": [
        {
          "output_type": "stream",
          "name": "stdout",
          "text": [
            "Epoch 1/10\n",
            "10/10 [==============================] - 1s 20ms/step - loss: 0.0709 - mae: 0.0973 - val_loss: 0.1254 - val_mae: 0.1450\n",
            "Epoch 2/10\n",
            "10/10 [==============================] - 0s 9ms/step - loss: 0.0467 - mae: 0.0660 - val_loss: 0.0907 - val_mae: 0.1272\n",
            "Epoch 3/10\n",
            "10/10 [==============================] - 0s 8ms/step - loss: 0.0330 - mae: 0.0638 - val_loss: 0.0607 - val_mae: 0.1190\n",
            "Epoch 4/10\n",
            "10/10 [==============================] - 0s 8ms/step - loss: 0.0226 - mae: 0.0655 - val_loss: 0.0398 - val_mae: 0.1059\n",
            "Epoch 5/10\n",
            "10/10 [==============================] - 0s 9ms/step - loss: 0.0155 - mae: 0.0621 - val_loss: 0.0292 - val_mae: 0.0890\n",
            "Epoch 6/10\n",
            "10/10 [==============================] - 0s 9ms/step - loss: 0.0116 - mae: 0.0522 - val_loss: 0.0187 - val_mae: 0.0734\n",
            "Epoch 7/10\n",
            "10/10 [==============================] - 0s 7ms/step - loss: 0.0082 - mae: 0.0426 - val_loss: 0.0106 - val_mae: 0.0604\n",
            "Epoch 8/10\n",
            "10/10 [==============================] - 0s 9ms/step - loss: 0.0062 - mae: 0.0392 - val_loss: 0.0093 - val_mae: 0.0481\n",
            "Epoch 9/10\n",
            "10/10 [==============================] - 0s 10ms/step - loss: 0.0053 - mae: 0.0301 - val_loss: 0.0052 - val_mae: 0.0401\n",
            "Epoch 10/10\n",
            "10/10 [==============================] - 0s 7ms/step - loss: 0.0049 - mae: 0.0284 - val_loss: 0.0042 - val_mae: 0.0351\n",
            "2/2 [==============================] - 0s 6ms/step - loss: 0.0024 - mae: 0.0218\n",
            "Test MAE: 0.02\n"
          ]
        }
      ]
    },
    {
      "cell_type": "code",
      "source": [
        "import matplotlib.pyplot as plt\n",
        "loss = history.history[\"mae\"]\n",
        "val_loss = history.history[\"val_mae\"]\n",
        "epochs = range(1, len(loss)+1)\n",
        "plt.figure()\n",
        "plt.plot(epochs, loss, \"bo\", label=\"Training MAE\")\n",
        "plt.plot(epochs, val_loss, \"b\", label=\"Validation MAE\")\n",
        "plt.title(\"Training and Validation MAE\")\n",
        "plt.legend()\n",
        "plt.show()"
      ],
      "metadata": {
        "colab": {
          "base_uri": "https://localhost:8080/",
          "height": 452
        },
        "id": "GtW9DnuvHR9E",
        "outputId": "bd40012a-f9bf-4447-de76-e543301762fc"
      },
      "execution_count": 26,
      "outputs": [
        {
          "output_type": "display_data",
          "data": {
            "text/plain": [
              "<Figure size 640x480 with 1 Axes>"
            ],
            "image/png": "[encoded data removed]"
          },
          "metadata": {}
        }
      ]
    }
  ]
}